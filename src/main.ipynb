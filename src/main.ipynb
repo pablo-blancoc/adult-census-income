{
 "cells": [
  {
   "cell_type": "markdown",
   "metadata": {},
   "source": [
    "# Adult Income Dataset\n",
    "\n",
    "Predict whether income exceeds $50K/yr based on census data"
   ]
  },
  {
   "cell_type": "code",
   "execution_count": 1,
   "metadata": {},
   "outputs": [],
   "source": [
    "import torch\n",
    "import torch.nn as nn\n",
    "import torch.nn.functional as F\n",
    "from torch.utils.data import DataLoader, TensorDataset\n",
    "\n",
    "import numpy as np\n",
    "import pandas as pd\n",
    "import matplotlib.pyplot as plt"
   ]
  },
  {
   "cell_type": "code",
   "execution_count": 2,
   "metadata": {},
   "outputs": [
    {
     "data": {
      "text/html": [
       "<div>\n",
       "<style scoped>\n",
       "    .dataframe tbody tr th:only-of-type {\n",
       "        vertical-align: middle;\n",
       "    }\n",
       "\n",
       "    .dataframe tbody tr th {\n",
       "        vertical-align: top;\n",
       "    }\n",
       "\n",
       "    .dataframe thead th {\n",
       "        text-align: right;\n",
       "    }\n",
       "</style>\n",
       "<table border=\"1\" class=\"dataframe\">\n",
       "  <thead>\n",
       "    <tr style=\"text-align: right;\">\n",
       "      <th></th>\n",
       "      <th>age</th>\n",
       "      <th>workclass</th>\n",
       "      <th>fnlwgt</th>\n",
       "      <th>education</th>\n",
       "      <th>education.num</th>\n",
       "      <th>marital.status</th>\n",
       "      <th>occupation</th>\n",
       "      <th>relationship</th>\n",
       "      <th>race</th>\n",
       "      <th>sex</th>\n",
       "      <th>capital.gain</th>\n",
       "      <th>capital.loss</th>\n",
       "      <th>hours.per.week</th>\n",
       "      <th>native.country</th>\n",
       "      <th>income</th>\n",
       "    </tr>\n",
       "  </thead>\n",
       "  <tbody>\n",
       "    <tr>\n",
       "      <th>0</th>\n",
       "      <td>90</td>\n",
       "      <td>?</td>\n",
       "      <td>77053</td>\n",
       "      <td>HS-grad</td>\n",
       "      <td>9</td>\n",
       "      <td>Widowed</td>\n",
       "      <td>?</td>\n",
       "      <td>Not-in-family</td>\n",
       "      <td>White</td>\n",
       "      <td>Female</td>\n",
       "      <td>0</td>\n",
       "      <td>4356</td>\n",
       "      <td>40</td>\n",
       "      <td>United-States</td>\n",
       "      <td>&lt;=50K</td>\n",
       "    </tr>\n",
       "    <tr>\n",
       "      <th>1</th>\n",
       "      <td>82</td>\n",
       "      <td>Private</td>\n",
       "      <td>132870</td>\n",
       "      <td>HS-grad</td>\n",
       "      <td>9</td>\n",
       "      <td>Widowed</td>\n",
       "      <td>Exec-managerial</td>\n",
       "      <td>Not-in-family</td>\n",
       "      <td>White</td>\n",
       "      <td>Female</td>\n",
       "      <td>0</td>\n",
       "      <td>4356</td>\n",
       "      <td>18</td>\n",
       "      <td>United-States</td>\n",
       "      <td>&lt;=50K</td>\n",
       "    </tr>\n",
       "    <tr>\n",
       "      <th>2</th>\n",
       "      <td>66</td>\n",
       "      <td>?</td>\n",
       "      <td>186061</td>\n",
       "      <td>Some-college</td>\n",
       "      <td>10</td>\n",
       "      <td>Widowed</td>\n",
       "      <td>?</td>\n",
       "      <td>Unmarried</td>\n",
       "      <td>Black</td>\n",
       "      <td>Female</td>\n",
       "      <td>0</td>\n",
       "      <td>4356</td>\n",
       "      <td>40</td>\n",
       "      <td>United-States</td>\n",
       "      <td>&lt;=50K</td>\n",
       "    </tr>\n",
       "    <tr>\n",
       "      <th>3</th>\n",
       "      <td>54</td>\n",
       "      <td>Private</td>\n",
       "      <td>140359</td>\n",
       "      <td>7th-8th</td>\n",
       "      <td>4</td>\n",
       "      <td>Divorced</td>\n",
       "      <td>Machine-op-inspct</td>\n",
       "      <td>Unmarried</td>\n",
       "      <td>White</td>\n",
       "      <td>Female</td>\n",
       "      <td>0</td>\n",
       "      <td>3900</td>\n",
       "      <td>40</td>\n",
       "      <td>United-States</td>\n",
       "      <td>&lt;=50K</td>\n",
       "    </tr>\n",
       "    <tr>\n",
       "      <th>4</th>\n",
       "      <td>41</td>\n",
       "      <td>Private</td>\n",
       "      <td>264663</td>\n",
       "      <td>Some-college</td>\n",
       "      <td>10</td>\n",
       "      <td>Separated</td>\n",
       "      <td>Prof-specialty</td>\n",
       "      <td>Own-child</td>\n",
       "      <td>White</td>\n",
       "      <td>Female</td>\n",
       "      <td>0</td>\n",
       "      <td>3900</td>\n",
       "      <td>40</td>\n",
       "      <td>United-States</td>\n",
       "      <td>&lt;=50K</td>\n",
       "    </tr>\n",
       "  </tbody>\n",
       "</table>\n",
       "</div>"
      ],
      "text/plain": [
       "   age workclass  fnlwgt     education  education.num marital.status  \\\n",
       "0   90         ?   77053       HS-grad              9        Widowed   \n",
       "1   82   Private  132870       HS-grad              9        Widowed   \n",
       "2   66         ?  186061  Some-college             10        Widowed   \n",
       "3   54   Private  140359       7th-8th              4       Divorced   \n",
       "4   41   Private  264663  Some-college             10      Separated   \n",
       "\n",
       "          occupation   relationship   race     sex  capital.gain  \\\n",
       "0                  ?  Not-in-family  White  Female             0   \n",
       "1    Exec-managerial  Not-in-family  White  Female             0   \n",
       "2                  ?      Unmarried  Black  Female             0   \n",
       "3  Machine-op-inspct      Unmarried  White  Female             0   \n",
       "4     Prof-specialty      Own-child  White  Female             0   \n",
       "\n",
       "   capital.loss  hours.per.week native.country income  \n",
       "0          4356              40  United-States  <=50K  \n",
       "1          4356              18  United-States  <=50K  \n",
       "2          4356              40  United-States  <=50K  \n",
       "3          3900              40  United-States  <=50K  \n",
       "4          3900              40  United-States  <=50K  "
      ]
     },
     "execution_count": 2,
     "metadata": {},
     "output_type": "execute_result"
    }
   ],
   "source": [
    "df = pd.read_csv('../data/adult.csv')\n",
    "df.head()"
   ]
  },
  {
   "cell_type": "code",
   "execution_count": 3,
   "metadata": {},
   "outputs": [
    {
     "name": "stdout",
     "output_type": "stream",
     "text": [
      "<class 'pandas.core.frame.DataFrame'>\n",
      "RangeIndex: 32561 entries, 0 to 32560\n",
      "Data columns (total 15 columns):\n",
      " #   Column          Non-Null Count  Dtype \n",
      "---  ------          --------------  ----- \n",
      " 0   age             32561 non-null  int64 \n",
      " 1   workclass       32561 non-null  object\n",
      " 2   fnlwgt          32561 non-null  int64 \n",
      " 3   education       32561 non-null  object\n",
      " 4   education.num   32561 non-null  int64 \n",
      " 5   marital.status  32561 non-null  object\n",
      " 6   occupation      32561 non-null  object\n",
      " 7   relationship    32561 non-null  object\n",
      " 8   race            32561 non-null  object\n",
      " 9   sex             32561 non-null  object\n",
      " 10  capital.gain    32561 non-null  int64 \n",
      " 11  capital.loss    32561 non-null  int64 \n",
      " 12  hours.per.week  32561 non-null  int64 \n",
      " 13  native.country  32561 non-null  object\n",
      " 14  income          32561 non-null  object\n",
      "dtypes: int64(6), object(9)\n",
      "memory usage: 3.7+ MB\n"
     ]
    }
   ],
   "source": [
    "df.info()"
   ]
  },
  {
   "cell_type": "markdown",
   "metadata": {},
   "source": [
    "**Feature Engineering**"
   ]
  },
  {
   "cell_type": "code",
   "execution_count": 4,
   "metadata": {},
   "outputs": [],
   "source": [
    "cats = ['workclass', 'education.num', 'marital.status', 'occupation', 'relationship', 'race', 'sex', 'native.country']\n",
    "conts = ['age', 'fnlwgt', 'capital.gain', 'capital.loss', 'hours.per.week']\n",
    "target = 'income'"
   ]
  },
  {
   "cell_type": "code",
   "execution_count": 5,
   "metadata": {},
   "outputs": [
    {
     "name": "stdout",
     "output_type": "stream",
     "text": [
      "<class 'pandas.core.frame.DataFrame'>\n",
      "RangeIndex: 32561 entries, 0 to 32560\n",
      "Data columns (total 15 columns):\n",
      " #   Column          Non-Null Count  Dtype \n",
      "---  ------          --------------  ----- \n",
      " 0   age             32561 non-null  int64 \n",
      " 1   workclass       32561 non-null  object\n",
      " 2   fnlwgt          32561 non-null  int64 \n",
      " 3   education       32561 non-null  object\n",
      " 4   education.num   32561 non-null  int64 \n",
      " 5   marital.status  32561 non-null  object\n",
      " 6   occupation      32561 non-null  object\n",
      " 7   relationship    32561 non-null  object\n",
      " 8   race            32561 non-null  object\n",
      " 9   sex             32561 non-null  object\n",
      " 10  capital.gain    32561 non-null  int64 \n",
      " 11  capital.loss    32561 non-null  int64 \n",
      " 12  hours.per.week  32561 non-null  int64 \n",
      " 13  native.country  32561 non-null  object\n",
      " 14  income          32561 non-null  object\n",
      "dtypes: int64(6), object(9)\n",
      "memory usage: 3.7+ MB\n"
     ]
    }
   ],
   "source": [
    "df.info()"
   ]
  },
  {
   "cell_type": "code",
   "execution_count": 6,
   "metadata": {},
   "outputs": [
    {
     "name": "stdout",
     "output_type": "stream",
     "text": [
      "Private             22696\n",
      "Self-emp-not-inc     2541\n",
      "Local-gov            2093\n",
      "Without-pay          1857\n",
      "State-gov            1298\n",
      "Self-emp-inc         1116\n",
      "Federal-gov           960\n",
      "Name: workclass, dtype: int64\n"
     ]
    }
   ],
   "source": [
    "# unite categories ?, never-worked, without-pay\n",
    "df['workclass'] = df['workclass'].apply(lambda x: x if x not in ['?', 'Without-pay', 'Never-worked'] else 'Without-pay')\n",
    "print(df['workclass'].value_counts())"
   ]
  },
  {
   "cell_type": "code",
   "execution_count": 7,
   "metadata": {},
   "outputs": [
    {
     "name": "stdout",
     "output_type": "stream",
     "text": [
      "Married-civ-spouse       14976\n",
      "Never-married            10683\n",
      "Divorced                  4443\n",
      "Separated                 1025\n",
      "Widowed                    993\n",
      "Married-spouse-absent      441\n",
      "Name: marital.status, dtype: int64\n"
     ]
    }
   ],
   "source": [
    "# unite caregories 'Married-AF-spouse' and 'Married-spouse-absent'\n",
    "df['marital.status'] = df['marital.status'].apply(lambda x: x if x not in ['Married-AF-spouse', 'Married-spouse-absent'] else 'Married-spouse-absent')\n",
    "print(df['marital.status'].value_counts())"
   ]
  },
  {
   "cell_type": "code",
   "execution_count": 8,
   "metadata": {},
   "outputs": [
    {
     "name": "stdout",
     "output_type": "stream",
     "text": [
      "United-States    29170\n",
      "other             3391\n",
      "Name: native.country, dtype: int64\n"
     ]
    }
   ],
   "source": [
    "# unite all countries that are not USA\n",
    "df['native.country'] = df['native.country'].apply(lambda x: x if x == 'United-States' else 'other')\n",
    "print(df['native.country'].value_counts())"
   ]
  },
  {
   "cell_type": "code",
   "execution_count": 9,
   "metadata": {},
   "outputs": [],
   "source": [
    "# apply category to target\n",
    "df[target] = df[target].astype('category')"
   ]
  },
  {
   "cell_type": "markdown",
   "metadata": {},
   "source": [
    "**Change values on DataFrame to its category codes**"
   ]
  },
  {
   "cell_type": "code",
   "execution_count": 10,
   "metadata": {},
   "outputs": [
    {
     "name": "stdout",
     "output_type": "stream",
     "text": [
      "<class 'pandas.core.frame.DataFrame'>\n",
      "RangeIndex: 32561 entries, 0 to 32560\n",
      "Data columns (total 15 columns):\n",
      " #   Column          Non-Null Count  Dtype   \n",
      "---  ------          --------------  -----   \n",
      " 0   age             32561 non-null  int64   \n",
      " 1   workclass       32561 non-null  object  \n",
      " 2   fnlwgt          32561 non-null  int64   \n",
      " 3   education       32561 non-null  object  \n",
      " 4   education.num   32561 non-null  int64   \n",
      " 5   marital.status  32561 non-null  object  \n",
      " 6   occupation      32561 non-null  object  \n",
      " 7   relationship    32561 non-null  object  \n",
      " 8   race            32561 non-null  object  \n",
      " 9   sex             32561 non-null  object  \n",
      " 10  capital.gain    32561 non-null  int64   \n",
      " 11  capital.loss    32561 non-null  int64   \n",
      " 12  hours.per.week  32561 non-null  int64   \n",
      " 13  native.country  32561 non-null  object  \n",
      " 14  income          32561 non-null  category\n",
      "dtypes: category(1), int64(6), object(8)\n",
      "memory usage: 3.5+ MB\n"
     ]
    }
   ],
   "source": [
    "df.info()"
   ]
  },
  {
   "cell_type": "code",
   "execution_count": 11,
   "metadata": {},
   "outputs": [],
   "source": [
    "df = df.astype({x: 'category' for x in cats})\n",
    "for col in cats:\n",
    "    df[col] = df[col].cat.codes.values\n",
    "\n",
    "df[target] = df[target].cat.codes.values"
   ]
  },
  {
   "cell_type": "code",
   "execution_count": 12,
   "metadata": {},
   "outputs": [
    {
     "data": {
      "text/html": [
       "<div>\n",
       "<style scoped>\n",
       "    .dataframe tbody tr th:only-of-type {\n",
       "        vertical-align: middle;\n",
       "    }\n",
       "\n",
       "    .dataframe tbody tr th {\n",
       "        vertical-align: top;\n",
       "    }\n",
       "\n",
       "    .dataframe thead th {\n",
       "        text-align: right;\n",
       "    }\n",
       "</style>\n",
       "<table border=\"1\" class=\"dataframe\">\n",
       "  <thead>\n",
       "    <tr style=\"text-align: right;\">\n",
       "      <th></th>\n",
       "      <th>age</th>\n",
       "      <th>workclass</th>\n",
       "      <th>fnlwgt</th>\n",
       "      <th>education.num</th>\n",
       "      <th>marital.status</th>\n",
       "      <th>occupation</th>\n",
       "      <th>relationship</th>\n",
       "      <th>race</th>\n",
       "      <th>sex</th>\n",
       "      <th>capital.gain</th>\n",
       "      <th>capital.loss</th>\n",
       "      <th>hours.per.week</th>\n",
       "      <th>native.country</th>\n",
       "      <th>income</th>\n",
       "    </tr>\n",
       "  </thead>\n",
       "  <tbody>\n",
       "    <tr>\n",
       "      <th>0</th>\n",
       "      <td>90</td>\n",
       "      <td>6</td>\n",
       "      <td>77053</td>\n",
       "      <td>8</td>\n",
       "      <td>5</td>\n",
       "      <td>0</td>\n",
       "      <td>1</td>\n",
       "      <td>4</td>\n",
       "      <td>0</td>\n",
       "      <td>0</td>\n",
       "      <td>4356</td>\n",
       "      <td>40</td>\n",
       "      <td>0</td>\n",
       "      <td>0</td>\n",
       "    </tr>\n",
       "    <tr>\n",
       "      <th>1</th>\n",
       "      <td>82</td>\n",
       "      <td>2</td>\n",
       "      <td>132870</td>\n",
       "      <td>8</td>\n",
       "      <td>5</td>\n",
       "      <td>4</td>\n",
       "      <td>1</td>\n",
       "      <td>4</td>\n",
       "      <td>0</td>\n",
       "      <td>0</td>\n",
       "      <td>4356</td>\n",
       "      <td>18</td>\n",
       "      <td>0</td>\n",
       "      <td>0</td>\n",
       "    </tr>\n",
       "    <tr>\n",
       "      <th>2</th>\n",
       "      <td>66</td>\n",
       "      <td>6</td>\n",
       "      <td>186061</td>\n",
       "      <td>9</td>\n",
       "      <td>5</td>\n",
       "      <td>0</td>\n",
       "      <td>4</td>\n",
       "      <td>2</td>\n",
       "      <td>0</td>\n",
       "      <td>0</td>\n",
       "      <td>4356</td>\n",
       "      <td>40</td>\n",
       "      <td>0</td>\n",
       "      <td>0</td>\n",
       "    </tr>\n",
       "    <tr>\n",
       "      <th>3</th>\n",
       "      <td>54</td>\n",
       "      <td>2</td>\n",
       "      <td>140359</td>\n",
       "      <td>3</td>\n",
       "      <td>0</td>\n",
       "      <td>7</td>\n",
       "      <td>4</td>\n",
       "      <td>4</td>\n",
       "      <td>0</td>\n",
       "      <td>0</td>\n",
       "      <td>3900</td>\n",
       "      <td>40</td>\n",
       "      <td>0</td>\n",
       "      <td>0</td>\n",
       "    </tr>\n",
       "    <tr>\n",
       "      <th>4</th>\n",
       "      <td>41</td>\n",
       "      <td>2</td>\n",
       "      <td>264663</td>\n",
       "      <td>9</td>\n",
       "      <td>4</td>\n",
       "      <td>10</td>\n",
       "      <td>3</td>\n",
       "      <td>4</td>\n",
       "      <td>0</td>\n",
       "      <td>0</td>\n",
       "      <td>3900</td>\n",
       "      <td>40</td>\n",
       "      <td>0</td>\n",
       "      <td>0</td>\n",
       "    </tr>\n",
       "    <tr>\n",
       "      <th>5</th>\n",
       "      <td>34</td>\n",
       "      <td>2</td>\n",
       "      <td>216864</td>\n",
       "      <td>8</td>\n",
       "      <td>0</td>\n",
       "      <td>8</td>\n",
       "      <td>4</td>\n",
       "      <td>4</td>\n",
       "      <td>0</td>\n",
       "      <td>0</td>\n",
       "      <td>3770</td>\n",
       "      <td>45</td>\n",
       "      <td>0</td>\n",
       "      <td>0</td>\n",
       "    </tr>\n",
       "    <tr>\n",
       "      <th>6</th>\n",
       "      <td>38</td>\n",
       "      <td>2</td>\n",
       "      <td>150601</td>\n",
       "      <td>5</td>\n",
       "      <td>4</td>\n",
       "      <td>1</td>\n",
       "      <td>4</td>\n",
       "      <td>4</td>\n",
       "      <td>1</td>\n",
       "      <td>0</td>\n",
       "      <td>3770</td>\n",
       "      <td>40</td>\n",
       "      <td>0</td>\n",
       "      <td>0</td>\n",
       "    </tr>\n",
       "    <tr>\n",
       "      <th>7</th>\n",
       "      <td>74</td>\n",
       "      <td>5</td>\n",
       "      <td>88638</td>\n",
       "      <td>15</td>\n",
       "      <td>3</td>\n",
       "      <td>10</td>\n",
       "      <td>2</td>\n",
       "      <td>4</td>\n",
       "      <td>0</td>\n",
       "      <td>0</td>\n",
       "      <td>3683</td>\n",
       "      <td>20</td>\n",
       "      <td>0</td>\n",
       "      <td>1</td>\n",
       "    </tr>\n",
       "    <tr>\n",
       "      <th>8</th>\n",
       "      <td>68</td>\n",
       "      <td>0</td>\n",
       "      <td>422013</td>\n",
       "      <td>8</td>\n",
       "      <td>0</td>\n",
       "      <td>10</td>\n",
       "      <td>1</td>\n",
       "      <td>4</td>\n",
       "      <td>0</td>\n",
       "      <td>0</td>\n",
       "      <td>3683</td>\n",
       "      <td>40</td>\n",
       "      <td>0</td>\n",
       "      <td>0</td>\n",
       "    </tr>\n",
       "    <tr>\n",
       "      <th>9</th>\n",
       "      <td>41</td>\n",
       "      <td>2</td>\n",
       "      <td>70037</td>\n",
       "      <td>9</td>\n",
       "      <td>3</td>\n",
       "      <td>3</td>\n",
       "      <td>4</td>\n",
       "      <td>4</td>\n",
       "      <td>1</td>\n",
       "      <td>0</td>\n",
       "      <td>3004</td>\n",
       "      <td>60</td>\n",
       "      <td>1</td>\n",
       "      <td>1</td>\n",
       "    </tr>\n",
       "  </tbody>\n",
       "</table>\n",
       "</div>"
      ],
      "text/plain": [
       "   age  workclass  fnlwgt  education.num  marital.status  occupation  \\\n",
       "0   90          6   77053              8               5           0   \n",
       "1   82          2  132870              8               5           4   \n",
       "2   66          6  186061              9               5           0   \n",
       "3   54          2  140359              3               0           7   \n",
       "4   41          2  264663              9               4          10   \n",
       "5   34          2  216864              8               0           8   \n",
       "6   38          2  150601              5               4           1   \n",
       "7   74          5   88638             15               3          10   \n",
       "8   68          0  422013              8               0          10   \n",
       "9   41          2   70037              9               3           3   \n",
       "\n",
       "   relationship  race  sex  capital.gain  capital.loss  hours.per.week  \\\n",
       "0             1     4    0             0          4356              40   \n",
       "1             1     4    0             0          4356              18   \n",
       "2             4     2    0             0          4356              40   \n",
       "3             4     4    0             0          3900              40   \n",
       "4             3     4    0             0          3900              40   \n",
       "5             4     4    0             0          3770              45   \n",
       "6             4     4    1             0          3770              40   \n",
       "7             2     4    0             0          3683              20   \n",
       "8             1     4    0             0          3683              40   \n",
       "9             4     4    1             0          3004              60   \n",
       "\n",
       "   native.country  income  \n",
       "0               0       0  \n",
       "1               0       0  \n",
       "2               0       0  \n",
       "3               0       0  \n",
       "4               0       0  \n",
       "5               0       0  \n",
       "6               0       0  \n",
       "7               0       1  \n",
       "8               0       0  \n",
       "9               1       1  "
      ]
     },
     "execution_count": 12,
     "metadata": {},
     "output_type": "execute_result"
    }
   ],
   "source": [
    "df.drop('education', inplace=True, axis=1)\n",
    "df.head(10)"
   ]
  },
  {
   "cell_type": "markdown",
   "metadata": {},
   "source": [
    "**Steps missing:**\n",
    "1. Get train, test split dataloaders\n",
    "2. Normalize continuous variables\n",
    "3. Prepare embeddings\n",
    "4. Define model\n",
    "5. Train and choose hyperparameters\n",
    "6. Test"
   ]
  },
  {
   "cell_type": "code",
   "execution_count": 13,
   "metadata": {},
   "outputs": [
    {
     "data": {
      "text/html": [
       "<div>\n",
       "<style scoped>\n",
       "    .dataframe tbody tr th:only-of-type {\n",
       "        vertical-align: middle;\n",
       "    }\n",
       "\n",
       "    .dataframe tbody tr th {\n",
       "        vertical-align: top;\n",
       "    }\n",
       "\n",
       "    .dataframe thead th {\n",
       "        text-align: right;\n",
       "    }\n",
       "</style>\n",
       "<table border=\"1\" class=\"dataframe\">\n",
       "  <thead>\n",
       "    <tr style=\"text-align: right;\">\n",
       "      <th></th>\n",
       "      <th>age</th>\n",
       "      <th>workclass</th>\n",
       "      <th>fnlwgt</th>\n",
       "      <th>education.num</th>\n",
       "      <th>marital.status</th>\n",
       "      <th>occupation</th>\n",
       "      <th>relationship</th>\n",
       "      <th>race</th>\n",
       "      <th>sex</th>\n",
       "      <th>capital.gain</th>\n",
       "      <th>capital.loss</th>\n",
       "      <th>hours.per.week</th>\n",
       "      <th>native.country</th>\n",
       "      <th>income</th>\n",
       "    </tr>\n",
       "  </thead>\n",
       "  <tbody>\n",
       "    <tr>\n",
       "      <th>0</th>\n",
       "      <td>21</td>\n",
       "      <td>2</td>\n",
       "      <td>230429</td>\n",
       "      <td>8</td>\n",
       "      <td>3</td>\n",
       "      <td>3</td>\n",
       "      <td>1</td>\n",
       "      <td>4</td>\n",
       "      <td>1</td>\n",
       "      <td>0</td>\n",
       "      <td>0</td>\n",
       "      <td>35</td>\n",
       "      <td>0</td>\n",
       "      <td>0</td>\n",
       "    </tr>\n",
       "    <tr>\n",
       "      <th>1</th>\n",
       "      <td>52</td>\n",
       "      <td>2</td>\n",
       "      <td>165998</td>\n",
       "      <td>9</td>\n",
       "      <td>1</td>\n",
       "      <td>7</td>\n",
       "      <td>0</td>\n",
       "      <td>4</td>\n",
       "      <td>1</td>\n",
       "      <td>0</td>\n",
       "      <td>0</td>\n",
       "      <td>40</td>\n",
       "      <td>0</td>\n",
       "      <td>0</td>\n",
       "    </tr>\n",
       "    <tr>\n",
       "      <th>2</th>\n",
       "      <td>32</td>\n",
       "      <td>2</td>\n",
       "      <td>251701</td>\n",
       "      <td>11</td>\n",
       "      <td>3</td>\n",
       "      <td>10</td>\n",
       "      <td>1</td>\n",
       "      <td>4</td>\n",
       "      <td>1</td>\n",
       "      <td>0</td>\n",
       "      <td>0</td>\n",
       "      <td>40</td>\n",
       "      <td>1</td>\n",
       "      <td>0</td>\n",
       "    </tr>\n",
       "    <tr>\n",
       "      <th>3</th>\n",
       "      <td>34</td>\n",
       "      <td>2</td>\n",
       "      <td>176648</td>\n",
       "      <td>8</td>\n",
       "      <td>0</td>\n",
       "      <td>1</td>\n",
       "      <td>1</td>\n",
       "      <td>2</td>\n",
       "      <td>1</td>\n",
       "      <td>0</td>\n",
       "      <td>0</td>\n",
       "      <td>42</td>\n",
       "      <td>0</td>\n",
       "      <td>0</td>\n",
       "    </tr>\n",
       "    <tr>\n",
       "      <th>4</th>\n",
       "      <td>22</td>\n",
       "      <td>6</td>\n",
       "      <td>196280</td>\n",
       "      <td>9</td>\n",
       "      <td>3</td>\n",
       "      <td>0</td>\n",
       "      <td>3</td>\n",
       "      <td>4</td>\n",
       "      <td>0</td>\n",
       "      <td>0</td>\n",
       "      <td>0</td>\n",
       "      <td>20</td>\n",
       "      <td>0</td>\n",
       "      <td>0</td>\n",
       "    </tr>\n",
       "    <tr>\n",
       "      <th>5</th>\n",
       "      <td>22</td>\n",
       "      <td>2</td>\n",
       "      <td>169188</td>\n",
       "      <td>8</td>\n",
       "      <td>3</td>\n",
       "      <td>4</td>\n",
       "      <td>3</td>\n",
       "      <td>4</td>\n",
       "      <td>0</td>\n",
       "      <td>0</td>\n",
       "      <td>0</td>\n",
       "      <td>20</td>\n",
       "      <td>0</td>\n",
       "      <td>0</td>\n",
       "    </tr>\n",
       "    <tr>\n",
       "      <th>6</th>\n",
       "      <td>33</td>\n",
       "      <td>2</td>\n",
       "      <td>174201</td>\n",
       "      <td>8</td>\n",
       "      <td>3</td>\n",
       "      <td>6</td>\n",
       "      <td>3</td>\n",
       "      <td>4</td>\n",
       "      <td>1</td>\n",
       "      <td>0</td>\n",
       "      <td>0</td>\n",
       "      <td>40</td>\n",
       "      <td>0</td>\n",
       "      <td>0</td>\n",
       "    </tr>\n",
       "    <tr>\n",
       "      <th>7</th>\n",
       "      <td>38</td>\n",
       "      <td>2</td>\n",
       "      <td>207202</td>\n",
       "      <td>8</td>\n",
       "      <td>1</td>\n",
       "      <td>7</td>\n",
       "      <td>0</td>\n",
       "      <td>4</td>\n",
       "      <td>1</td>\n",
       "      <td>0</td>\n",
       "      <td>0</td>\n",
       "      <td>48</td>\n",
       "      <td>0</td>\n",
       "      <td>1</td>\n",
       "    </tr>\n",
       "    <tr>\n",
       "      <th>8</th>\n",
       "      <td>42</td>\n",
       "      <td>2</td>\n",
       "      <td>208875</td>\n",
       "      <td>9</td>\n",
       "      <td>1</td>\n",
       "      <td>4</td>\n",
       "      <td>5</td>\n",
       "      <td>4</td>\n",
       "      <td>0</td>\n",
       "      <td>0</td>\n",
       "      <td>0</td>\n",
       "      <td>40</td>\n",
       "      <td>1</td>\n",
       "      <td>1</td>\n",
       "    </tr>\n",
       "    <tr>\n",
       "      <th>9</th>\n",
       "      <td>34</td>\n",
       "      <td>2</td>\n",
       "      <td>224358</td>\n",
       "      <td>5</td>\n",
       "      <td>3</td>\n",
       "      <td>8</td>\n",
       "      <td>4</td>\n",
       "      <td>2</td>\n",
       "      <td>0</td>\n",
       "      <td>0</td>\n",
       "      <td>0</td>\n",
       "      <td>40</td>\n",
       "      <td>0</td>\n",
       "      <td>0</td>\n",
       "    </tr>\n",
       "  </tbody>\n",
       "</table>\n",
       "</div>"
      ],
      "text/plain": [
       "   age  workclass  fnlwgt  education.num  marital.status  occupation  \\\n",
       "0   21          2  230429              8               3           3   \n",
       "1   52          2  165998              9               1           7   \n",
       "2   32          2  251701             11               3          10   \n",
       "3   34          2  176648              8               0           1   \n",
       "4   22          6  196280              9               3           0   \n",
       "5   22          2  169188              8               3           4   \n",
       "6   33          2  174201              8               3           6   \n",
       "7   38          2  207202              8               1           7   \n",
       "8   42          2  208875              9               1           4   \n",
       "9   34          2  224358              5               3           8   \n",
       "\n",
       "   relationship  race  sex  capital.gain  capital.loss  hours.per.week  \\\n",
       "0             1     4    1             0             0              35   \n",
       "1             0     4    1             0             0              40   \n",
       "2             1     4    1             0             0              40   \n",
       "3             1     2    1             0             0              42   \n",
       "4             3     4    0             0             0              20   \n",
       "5             3     4    0             0             0              20   \n",
       "6             3     4    1             0             0              40   \n",
       "7             0     4    1             0             0              48   \n",
       "8             5     4    0             0             0              40   \n",
       "9             4     2    0             0             0              40   \n",
       "\n",
       "   native.country  income  \n",
       "0               0       0  \n",
       "1               0       0  \n",
       "2               1       0  \n",
       "3               0       0  \n",
       "4               0       0  \n",
       "5               0       0  \n",
       "6               0       0  \n",
       "7               0       1  \n",
       "8               1       1  \n",
       "9               0       0  "
      ]
     },
     "execution_count": 13,
     "metadata": {},
     "output_type": "execute_result"
    }
   ],
   "source": [
    "# shuffle the dataset\n",
    "df = df.sample(frac=1).reset_index(drop=True)\n",
    "df.head(10)"
   ]
  },
  {
   "cell_type": "code",
   "execution_count": 14,
   "metadata": {},
   "outputs": [
    {
     "name": "stdout",
     "output_type": "stream",
     "text": [
      "Total data points: 32561\n",
      "Training data points: 26048\n",
      "Testing data points: 6513\n"
     ]
    }
   ],
   "source": [
    "# train test split\n",
    "test_size = 0.2\n",
    "\n",
    "X_train = df[[x for x in df.columns if x != 'income']][ : int(df.shape[0] * (1 - test_size))]\n",
    "y_train = df['income'][ : int(df.shape[0] * (1 - test_size))]\n",
    "\n",
    "X_test = df[[x for x in df.columns if x != 'income']][int(df.shape[0] * (1 - test_size)) : ]\n",
    "y_test = df['income'][int(df.shape[0] * (1 - test_size)) : ]\n",
    "\n",
    "print(f\"Total data points: {df.shape[0]}\")\n",
    "print(f\"Training data points: {X_train.shape[0]}\")\n",
    "print(f\"Testing data points: {X_test.shape[0]}\")"
   ]
  },
  {
   "cell_type": "markdown",
   "metadata": {},
   "source": [
    "## Normalize continuous columns"
   ]
  },
  {
   "cell_type": "code",
   "execution_count": 15,
   "metadata": {},
   "outputs": [
    {
     "name": "stdout",
     "output_type": "stream",
     "text": [
      "Continuous columns: ['age', 'fnlwgt', 'capital.gain', 'capital.loss', 'hours.per.week']\n"
     ]
    }
   ],
   "source": [
    "print(f\"Continuous columns: {conts}\")"
   ]
  },
  {
   "cell_type": "code",
   "execution_count": 16,
   "metadata": {},
   "outputs": [
    {
     "name": "stdout",
     "output_type": "stream",
     "text": [
      "Age range: 17 - 90\n"
     ]
    }
   ],
   "source": [
    "# normalize age column\n",
    "\n",
    "age_max = X_train['age'].max()\n",
    "age_min = X_train['age'].min()\n",
    "print(f\"Age range: {age_min} - {age_max}\")\n",
    "\n",
    "X_train['age'] = X_train['age'].apply(lambda x: (x - age_min) / (age_max - age_min))"
   ]
  },
  {
   "cell_type": "code",
   "execution_count": 17,
   "metadata": {},
   "outputs": [
    {
     "name": "stdout",
     "output_type": "stream",
     "text": [
      "fnlwgt range: 12285 - 1366120\n"
     ]
    }
   ],
   "source": [
    "# normalize fnlwgt column\n",
    "\n",
    "fnlwgt_max = X_train['fnlwgt'].max()\n",
    "fnlwgt_min = X_train['fnlwgt'].min()\n",
    "print(f\"fnlwgt range: {fnlwgt_min} - {fnlwgt_max}\")\n",
    "\n",
    "X_train['fnlwgt'] = X_train['fnlwgt'].apply(lambda x: (x - fnlwgt_min) / (fnlwgt_max - fnlwgt_min))"
   ]
  },
  {
   "cell_type": "code",
   "execution_count": 18,
   "metadata": {},
   "outputs": [
    {
     "name": "stdout",
     "output_type": "stream",
     "text": [
      "capital.gain range: 0 - 99999\n"
     ]
    }
   ],
   "source": [
    "# normalize capital.gain column\n",
    "\n",
    "capital_max = X_train['capital.gain'].max()\n",
    "capital_min = X_train['capital.gain'].min()\n",
    "print(f\"capital.gain range: {capital_min} - {capital_max}\")\n",
    "\n",
    "X_train['capital.gain'] = X_train['capital.gain'].apply(lambda x: (x - capital_min) / (capital_max - capital_min))"
   ]
  },
  {
   "cell_type": "code",
   "execution_count": 19,
   "metadata": {},
   "outputs": [
    {
     "name": "stdout",
     "output_type": "stream",
     "text": [
      "capital.loss range: 0 - 4356\n"
     ]
    }
   ],
   "source": [
    "# normalize capital.loss column\n",
    "\n",
    "capital_loss_max = X_train['capital.loss'].max()\n",
    "capital_loss_min = X_train['capital.loss'].min()\n",
    "print(f\"capital.loss range: {capital_loss_min} - {capital_loss_max}\")\n",
    "\n",
    "X_train['capital.loss'] = X_train['capital.loss'].apply(lambda x: (x - capital_loss_min) / (capital_loss_max - capital_loss_min))"
   ]
  },
  {
   "cell_type": "code",
   "execution_count": 20,
   "metadata": {},
   "outputs": [
    {
     "name": "stdout",
     "output_type": "stream",
     "text": [
      "hours.per.week range: 1 - 99\n"
     ]
    }
   ],
   "source": [
    "# normalize hours.per.week column\n",
    "\n",
    "hours_per_week_max = X_train['hours.per.week'].max()\n",
    "hours_per_week_min = X_train['hours.per.week'].min()\n",
    "print(f\"hours.per.week range: {hours_per_week_min} - {hours_per_week_max}\")\n",
    "\n",
    "X_train['hours.per.week'] = X_train['hours.per.week'].apply(lambda x: (x - hours_per_week_min) / (hours_per_week_max - hours_per_week_min))"
   ]
  },
  {
   "cell_type": "code",
   "execution_count": 21,
   "metadata": {},
   "outputs": [],
   "source": [
    "# normalize test columns with values from train columns\n",
    "X_test['age'] = X_test['age'].apply(lambda x: (x - age_min) / (age_max - age_min))\n",
    "X_test['fnlwgt'] = X_test['fnlwgt'].apply(lambda x: (x - fnlwgt_min) / (fnlwgt_max - fnlwgt_min))\n",
    "X_test['capital.gain'] = X_test['capital.gain'].apply(lambda x: (x - capital_min) / (capital_max - capital_min))\n",
    "X_test['capital.loss'] = X_test['capital.loss'].apply(lambda x: (x - capital_loss_min) / (capital_loss_max - capital_loss_min))\n",
    "X_test['hours.per.week'] = X_test['hours.per.week'].apply(lambda x: (x - hours_per_week_min) / (hours_per_week_max - hours_per_week_min))"
   ]
  },
  {
   "cell_type": "markdown",
   "metadata": {},
   "source": [
    "## Create dataloaders"
   ]
  },
  {
   "cell_type": "code",
   "execution_count": 22,
   "metadata": {},
   "outputs": [],
   "source": [
    "batch_size = 256\n",
    "\n",
    "train_categorical_dataloader = DataLoader(\n",
    "    TensorDataset(\n",
    "        torch.Tensor(X_train[cats].to_numpy())\n",
    "    ),\n",
    "    batch_size=batch_size\n",
    ")\n",
    "train_continuous_dataloader = DataLoader(\n",
    "    TensorDataset(\n",
    "        torch.Tensor(X_train[conts].to_numpy())\n",
    "    ),\n",
    "    batch_size=batch_size\n",
    ")\n",
    "train_target_dataloader = DataLoader(\n",
    "    TensorDataset(\n",
    "        torch.Tensor(y_train.to_numpy())\n",
    "    ),\n",
    "    batch_size=batch_size\n",
    ")\n",
    "\n",
    "test_categorical_dataloader = DataLoader(\n",
    "    TensorDataset(\n",
    "        torch.Tensor(X_test[cats].to_numpy())\n",
    "    ),\n",
    "    batch_size=batch_size\n",
    ")\n",
    "test_continuous_dataloader = DataLoader(\n",
    "    TensorDataset(\n",
    "        torch.Tensor(X_test[conts].to_numpy())\n",
    "    ),\n",
    "    batch_size=batch_size\n",
    ")\n",
    "test_target_dataloader = DataLoader(\n",
    "    TensorDataset(\n",
    "        torch.Tensor(y_test.to_numpy())\n",
    "    ),\n",
    "    batch_size=batch_size\n",
    ")\n"
   ]
  },
  {
   "cell_type": "markdown",
   "metadata": {},
   "source": [
    "## Prepare embeddings sizes"
   ]
  },
  {
   "cell_type": "code",
   "execution_count": 23,
   "metadata": {},
   "outputs": [
    {
     "name": "stdout",
     "output_type": "stream",
     "text": [
      "[(7, 4), (16, 8), (6, 3), (15, 8), (6, 3), (5, 3), (2, 1), (2, 1)]\n"
     ]
    }
   ],
   "source": [
    "embeddings_sizes = []\n",
    "\n",
    "for cat in cats:\n",
    "    categories = len(df[cat].unique())\n",
    "    embedding_size = (categories + 1) // 2\n",
    "    embeddings_sizes.append((categories, embedding_size))\n",
    "\n",
    "print(embeddings_sizes)"
   ]
  },
  {
   "cell_type": "markdown",
   "metadata": {},
   "source": [
    "## Define the model class"
   ]
  },
  {
   "cell_type": "code",
   "execution_count": 24,
   "metadata": {},
   "outputs": [],
   "source": [
    "class Model(nn.Module):\n",
    "\n",
    "    def __init__(self, embedding_sizes, n_continuous, p_dropout = 0.4):\n",
    "        super().__init__()\n",
    "\n",
    "        # embedding layers\n",
    "        self.embeddings = nn.ModuleList([nn.Embedding(num_embeddings, embedding_dim) for num_embeddings, embedding_dim in embedding_sizes])\n",
    "        self.embeddings_dropout = nn.Dropout(p_dropout)\n",
    "        \n",
    "        # normalize continuous\n",
    "        self.normalize_continuous = nn.BatchNorm1d(n_continuous)\n",
    "\n",
    "        # linear FC layers\n",
    "        number_embeddings = sum([number_embeddings_per_column for _, number_embeddings_per_column in embedding_sizes])\n",
    "        in_features = number_embeddings + n_continuous\n",
    "        layer_list = [\n",
    "            nn.Linear(in_features=in_features, out_features=64),\n",
    "            nn.ReLU(inplace=True),\n",
    "            nn.Dropout(p=p_dropout),\n",
    "            nn.BatchNorm1d(64),\n",
    "\n",
    "            nn.Linear(in_features=64, out_features=128),\n",
    "            nn.ReLU(inplace=True),\n",
    "            nn.Dropout(p=p_dropout),\n",
    "            nn.BatchNorm1d(128),\n",
    "\n",
    "            nn.Linear(in_features=128, out_features=32),\n",
    "            nn.ReLU(inplace=True),\n",
    "            nn.Dropout(p=p_dropout),\n",
    "            nn.BatchNorm1d(32),\n",
    "            \n",
    "            nn.Linear(in_features=32, out_features=2),\n",
    "        ]\n",
    "        self.layers = nn.Sequential(*layer_list)\n",
    "\n",
    "    def forward(self, x_categorical, x_continuous):\n",
    "\n",
    "        x_categorical_tensor = x_categorical[0].int()\n",
    "        x_continuous_tensor = x_continuous[0]\n",
    "\n",
    "        # process embeddings\n",
    "        embeddings = []\n",
    "        for i, embedding_layer in enumerate(self.embeddings):\n",
    "            embeddings.append(embedding_layer(x_categorical_tensor[:, i]))\n",
    "        x_cat = torch.cat(embeddings, dim=1)\n",
    "        x_cat = self.embeddings_dropout(x_cat)\n",
    "\n",
    "        # process continuous\n",
    "        x_cont = self.normalize_continuous(x_continuous_tensor)\n",
    "\n",
    "        # concatenate all inputs\n",
    "        x = torch.cat([x_cat, x_cont], dim=1)\n",
    "\n",
    "        # apply layers\n",
    "        return self.layers(x)\n",
    "\n",
    "        "
   ]
  },
  {
   "cell_type": "code",
   "execution_count": 25,
   "metadata": {},
   "outputs": [
    {
     "data": {
      "text/plain": [
       "Model(\n",
       "  (embeddings): ModuleList(\n",
       "    (0): Embedding(7, 4)\n",
       "    (1): Embedding(16, 8)\n",
       "    (2): Embedding(6, 3)\n",
       "    (3): Embedding(15, 8)\n",
       "    (4): Embedding(6, 3)\n",
       "    (5): Embedding(5, 3)\n",
       "    (6): Embedding(2, 1)\n",
       "    (7): Embedding(2, 1)\n",
       "  )\n",
       "  (embeddings_dropout): Dropout(p=0.4, inplace=False)\n",
       "  (normalize_continuous): BatchNorm1d(5, eps=1e-05, momentum=0.1, affine=True, track_running_stats=True)\n",
       "  (layers): Sequential(\n",
       "    (0): Linear(in_features=36, out_features=64, bias=True)\n",
       "    (1): ReLU(inplace=True)\n",
       "    (2): Dropout(p=0.4, inplace=False)\n",
       "    (3): BatchNorm1d(64, eps=1e-05, momentum=0.1, affine=True, track_running_stats=True)\n",
       "    (4): Linear(in_features=64, out_features=128, bias=True)\n",
       "    (5): ReLU(inplace=True)\n",
       "    (6): Dropout(p=0.4, inplace=False)\n",
       "    (7): BatchNorm1d(128, eps=1e-05, momentum=0.1, affine=True, track_running_stats=True)\n",
       "    (8): Linear(in_features=128, out_features=32, bias=True)\n",
       "    (9): ReLU(inplace=True)\n",
       "    (10): Dropout(p=0.4, inplace=False)\n",
       "    (11): BatchNorm1d(32, eps=1e-05, momentum=0.1, affine=True, track_running_stats=True)\n",
       "    (12): Linear(in_features=32, out_features=2, bias=True)\n",
       "  )\n",
       ")"
      ]
     },
     "execution_count": 25,
     "metadata": {},
     "output_type": "execute_result"
    }
   ],
   "source": [
    "model = Model(embedding_sizes=embeddings_sizes, n_continuous=len(conts))\n",
    "model"
   ]
  },
  {
   "cell_type": "markdown",
   "metadata": {},
   "source": [
    "## Define hyperparameters"
   ]
  },
  {
   "cell_type": "code",
   "execution_count": 26,
   "metadata": {},
   "outputs": [],
   "source": [
    "optimizer = torch.optim.Adam(params=model.parameters(), lr=0.0006)\n",
    "criterion = nn.CrossEntropyLoss()"
   ]
  },
  {
   "cell_type": "markdown",
   "metadata": {},
   "source": [
    "## Train"
   ]
  },
  {
   "cell_type": "code",
   "execution_count": 27,
   "metadata": {},
   "outputs": [
    {
     "name": "stdout",
     "output_type": "stream",
     "text": [
      "epoch: 0      loss: 0.5412001013755798\n",
      "epoch: 1      loss: 0.4505203664302826\n",
      "epoch: 2      loss: 0.4241335093975067\n",
      "epoch: 3      loss: 0.3743450343608856\n",
      "epoch: 4      loss: 0.4140559434890747\n",
      "epoch: 5      loss: 0.367561936378479\n",
      "epoch: 6      loss: 0.3541419208049774\n",
      "epoch: 7      loss: 0.387538880109787\n",
      "epoch: 8      loss: 0.3966614305973053\n",
      "epoch: 9      loss: 0.33854809403419495\n",
      "epoch: 10      loss: 0.39538872241973877\n",
      "epoch: 11      loss: 0.3681511878967285\n",
      "epoch: 12      loss: 0.39696964621543884\n",
      "epoch: 13      loss: 0.369655966758728\n",
      "epoch: 14      loss: 0.3736598491668701\n",
      "epoch: 15      loss: 0.334595650434494\n",
      "epoch: 16      loss: 0.34281864762306213\n",
      "epoch: 17      loss: 0.35955727100372314\n",
      "epoch: 18      loss: 0.38014745712280273\n",
      "epoch: 19      loss: 0.3290325701236725\n",
      "epoch: 20      loss: 0.3347879648208618\n",
      "epoch: 21      loss: 0.3290638327598572\n",
      "epoch: 22      loss: 0.32478833198547363\n",
      "epoch: 23      loss: 0.34755146503448486\n",
      "epoch: 24      loss: 0.33262279629707336\n",
      "epoch: 25      loss: 0.35634055733680725\n",
      "epoch: 26      loss: 0.367437481880188\n",
      "epoch: 27      loss: 0.3664015829563141\n",
      "epoch: 28      loss: 0.35173699259757996\n",
      "epoch: 29      loss: 0.3485467731952667\n"
     ]
    }
   ],
   "source": [
    "epochs = 30\n",
    "losses = []\n",
    "\n",
    "for epoch in range(epochs):\n",
    "\n",
    "    for i, (x_cat, x_cont, y) in enumerate(zip(train_categorical_dataloader, train_continuous_dataloader, train_target_dataloader)):\n",
    "\n",
    "        # convert list to tensor\n",
    "        y = y[0].float().reshape(-1, 1)\n",
    "\n",
    "        y_pred = model(x_cat, x_cont)\n",
    "        loss = criterion(y_pred, y.flatten().long())\n",
    "\n",
    "        # backpropagation\n",
    "        optimizer.zero_grad()\n",
    "        loss.backward()\n",
    "        optimizer.step()\n",
    "        \n",
    "    losses.append(loss.item())\n",
    "    print(f\"epoch: {epoch}      loss: {loss}\")"
   ]
  },
  {
   "cell_type": "code",
   "execution_count": 28,
   "metadata": {},
   "outputs": [
    {
     "data": {
      "text/plain": [
       "Text(0.5, 1.0, 'Training loss: 0.349')"
      ]
     },
     "execution_count": 28,
     "metadata": {},
     "output_type": "execute_result"
    },
    {
     "data": {
      "image/png": "[encoded data removed]",
      "text/plain": [
       "<Figure size 432x288 with 1 Axes>"
      ]
     },
     "metadata": {
      "needs_background": "light"
     },
     "output_type": "display_data"
    }
   ],
   "source": [
    "plt.plot(range(len(losses)), losses)\n",
    "plt.xlabel(\"epochs\")\n",
    "plt.ylabel(\"loss\")\n",
    "plt.title(f\"Training loss: {round(losses[-1], 3)}\")"
   ]
  },
  {
   "cell_type": "markdown",
   "metadata": {},
   "source": [
    "## Evaluate accuracy on test set"
   ]
  },
  {
   "cell_type": "code",
   "execution_count": 29,
   "metadata": {},
   "outputs": [
    {
     "name": "stdout",
     "output_type": "stream",
     "text": [
      "Corrects: 4968/6513     [76.3%]\n"
     ]
    }
   ],
   "source": [
    "corrects = 0\n",
    "\n",
    "with torch.no_grad():\n",
    "    for i, (x_cat, x_cont, y) in enumerate(zip(test_categorical_dataloader, test_continuous_dataloader, test_target_dataloader)):\n",
    "\n",
    "        # convert list to tensor\n",
    "        y = y[0].float().reshape(-1, 1)\n",
    "\n",
    "        # predict the value\n",
    "        y_val = model(x_cat, x_cont)\n",
    "\n",
    "        # sum to corrects to calculate accuracy\n",
    "        for y_val_point, y_point in zip(y_val.flatten(), y.flatten()):\n",
    "            if y_val_point.argmax() == y_point.item():\n",
    "                corrects += 1\n",
    "\n",
    "\n",
    "print(f\"Corrects: {corrects}/{X_test.shape[0]}     [{round(corrects/X_test.shape[0], 3) * 100}%]\")"
   ]
  },
  {
   "cell_type": "code",
   "execution_count": 31,
   "metadata": {},
   "outputs": [],
   "source": [
    "name = 'custom'\n",
    "torch.save(model.state_dict, f'../models/{name}.pt')"
   ]
  },
  {
   "cell_type": "code",
   "execution_count": null,
   "metadata": {},
   "outputs": [],
   "source": []
  }
 ],
 "metadata": {
  "interpreter": {
   "hash": "e7dc3644cdcb01302a8eaf6fea94dbb158364918ee82338e9a06e414c2be15b9"
  },
  "kernelspec": {
   "display_name": "Python 3.9.7 ('venv': venv)",
   "language": "python",
   "name": "python3"
  },
  "language_info": {
   "codemirror_mode": {
    "name": "ipython",
    "version": 3
   },
   "file_extension": ".py",
   "mimetype": "text/x-python",
   "name": "python",
   "nbconvert_exporter": "python",
   "pygments_lexer": "ipython3",
   "version": "3.9.7"
  },
  "orig_nbformat": 4
 },
 "nbformat": 4,
 "nbformat_minor": 2
}
